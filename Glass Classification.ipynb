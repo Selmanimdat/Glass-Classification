{
 "cells": [
  {
   "cell_type": "markdown",
   "metadata": {},
   "source": [
    "# Glass Classification"
   ]
  },
  {
   "cell_type": "code",
   "execution_count": 1,
   "metadata": {
    "execution": {
     "iopub.execute_input": "2023-12-18T22:47:48.309201Z",
     "iopub.status.busy": "2023-12-18T22:47:48.308180Z",
     "iopub.status.idle": "2023-12-18T22:47:48.329897Z",
     "shell.execute_reply": "2023-12-18T22:47:48.328963Z",
     "shell.execute_reply.started": "2023-12-18T22:47:48.309162Z"
    }
   },
   "outputs": [],
   "source": [
    "# Glass Classification project"
   ]
  },
  {
   "cell_type": "markdown",
   "metadata": {},
   "source": [
    "![Alt text](https://www.missouriglass.com/wp-content/uploads/2021/05/types-of-glass-featured-image.jpeg)\n"
   ]
  },
  {
   "cell_type": "code",
   "execution_count": 3,
   "metadata": {
    "execution": {
     "iopub.execute_input": "2023-12-18T22:49:31.876748Z",
     "iopub.status.busy": "2023-12-18T22:49:31.876275Z",
     "iopub.status.idle": "2023-12-18T22:49:45.982855Z",
     "shell.execute_reply": "2023-12-18T22:49:45.981778Z",
     "shell.execute_reply.started": "2023-12-18T22:49:31.876713Z"
    }
   },
   "outputs": [],
   "source": [
    "#libraries\n",
    "import pandas as pd\n",
    "import tensorflow as tf\n",
    "from sklearn.metrics import accuracy_score\n",
    "from sklearn.preprocessing import StandardScaler\n",
    "from tensorflow.keras import layers, models\n",
    "from sklearn.model_selection import train_test_split\n",
    "from tensorflow.keras.models import Sequential\n",
    "from tensorflow.keras.layers import Conv2D, MaxPooling2D, Flatten, Dense\n",
    "import joblib\n",
    "import warnings\n",
    "\n",
    "warnings.filterwarnings(\"ignore\")"
   ]
  },
  {
   "cell_type": "code",
   "execution_count": 4,
   "metadata": {
    "execution": {
     "iopub.execute_input": "2023-12-18T22:50:06.316847Z",
     "iopub.status.busy": "2023-12-18T22:50:06.315926Z",
     "iopub.status.idle": "2023-12-18T22:50:06.344117Z",
     "shell.execute_reply": "2023-12-18T22:50:06.343132Z",
     "shell.execute_reply.started": "2023-12-18T22:50:06.316803Z"
    }
   },
   "outputs": [],
   "source": [
    "#read data\n",
    "df=pd.read_csv(\"/kaggle/input/glass/glass.csv\")"
   ]
  },
  {
   "cell_type": "code",
   "execution_count": 5,
   "metadata": {
    "execution": {
     "iopub.execute_input": "2023-12-18T22:50:23.437822Z",
     "iopub.status.busy": "2023-12-18T22:50:23.437096Z",
     "iopub.status.idle": "2023-12-18T22:50:23.472110Z",
     "shell.execute_reply": "2023-12-18T22:50:23.470584Z",
     "shell.execute_reply.started": "2023-12-18T22:50:23.437780Z"
    }
   },
   "outputs": [
    {
     "data": {
      "text/html": [
       "<div>\n",
       "<style scoped>\n",
       "    .dataframe tbody tr th:only-of-type {\n",
       "        vertical-align: middle;\n",
       "    }\n",
       "\n",
       "    .dataframe tbody tr th {\n",
       "        vertical-align: top;\n",
       "    }\n",
       "\n",
       "    .dataframe thead th {\n",
       "        text-align: right;\n",
       "    }\n",
       "</style>\n",
       "<table border=\"1\" class=\"dataframe\">\n",
       "  <thead>\n",
       "    <tr style=\"text-align: right;\">\n",
       "      <th></th>\n",
       "      <th>RI</th>\n",
       "      <th>Na</th>\n",
       "      <th>Mg</th>\n",
       "      <th>Al</th>\n",
       "      <th>Si</th>\n",
       "      <th>K</th>\n",
       "      <th>Ca</th>\n",
       "      <th>Ba</th>\n",
       "      <th>Fe</th>\n",
       "      <th>Type</th>\n",
       "    </tr>\n",
       "  </thead>\n",
       "  <tbody>\n",
       "    <tr>\n",
       "      <th>0</th>\n",
       "      <td>1.52101</td>\n",
       "      <td>13.64</td>\n",
       "      <td>4.49</td>\n",
       "      <td>1.10</td>\n",
       "      <td>71.78</td>\n",
       "      <td>0.06</td>\n",
       "      <td>8.75</td>\n",
       "      <td>0.0</td>\n",
       "      <td>0.0</td>\n",
       "      <td>1</td>\n",
       "    </tr>\n",
       "    <tr>\n",
       "      <th>1</th>\n",
       "      <td>1.51761</td>\n",
       "      <td>13.89</td>\n",
       "      <td>3.60</td>\n",
       "      <td>1.36</td>\n",
       "      <td>72.73</td>\n",
       "      <td>0.48</td>\n",
       "      <td>7.83</td>\n",
       "      <td>0.0</td>\n",
       "      <td>0.0</td>\n",
       "      <td>1</td>\n",
       "    </tr>\n",
       "    <tr>\n",
       "      <th>2</th>\n",
       "      <td>1.51618</td>\n",
       "      <td>13.53</td>\n",
       "      <td>3.55</td>\n",
       "      <td>1.54</td>\n",
       "      <td>72.99</td>\n",
       "      <td>0.39</td>\n",
       "      <td>7.78</td>\n",
       "      <td>0.0</td>\n",
       "      <td>0.0</td>\n",
       "      <td>1</td>\n",
       "    </tr>\n",
       "    <tr>\n",
       "      <th>3</th>\n",
       "      <td>1.51766</td>\n",
       "      <td>13.21</td>\n",
       "      <td>3.69</td>\n",
       "      <td>1.29</td>\n",
       "      <td>72.61</td>\n",
       "      <td>0.57</td>\n",
       "      <td>8.22</td>\n",
       "      <td>0.0</td>\n",
       "      <td>0.0</td>\n",
       "      <td>1</td>\n",
       "    </tr>\n",
       "    <tr>\n",
       "      <th>4</th>\n",
       "      <td>1.51742</td>\n",
       "      <td>13.27</td>\n",
       "      <td>3.62</td>\n",
       "      <td>1.24</td>\n",
       "      <td>73.08</td>\n",
       "      <td>0.55</td>\n",
       "      <td>8.07</td>\n",
       "      <td>0.0</td>\n",
       "      <td>0.0</td>\n",
       "      <td>1</td>\n",
       "    </tr>\n",
       "  </tbody>\n",
       "</table>\n",
       "</div>"
      ],
      "text/plain": [
       "        RI     Na    Mg    Al     Si     K    Ca   Ba   Fe  Type\n",
       "0  1.52101  13.64  4.49  1.10  71.78  0.06  8.75  0.0  0.0     1\n",
       "1  1.51761  13.89  3.60  1.36  72.73  0.48  7.83  0.0  0.0     1\n",
       "2  1.51618  13.53  3.55  1.54  72.99  0.39  7.78  0.0  0.0     1\n",
       "3  1.51766  13.21  3.69  1.29  72.61  0.57  8.22  0.0  0.0     1\n",
       "4  1.51742  13.27  3.62  1.24  73.08  0.55  8.07  0.0  0.0     1"
      ]
     },
     "execution_count": 5,
     "metadata": {},
     "output_type": "execute_result"
    }
   ],
   "source": [
    "#EDA\n",
    "df.head()"
   ]
  },
  {
   "cell_type": "code",
   "execution_count": 17,
   "metadata": {
    "execution": {
     "iopub.execute_input": "2023-12-18T22:56:36.928020Z",
     "iopub.status.busy": "2023-12-18T22:56:36.927549Z",
     "iopub.status.idle": "2023-12-18T22:56:36.934928Z",
     "shell.execute_reply": "2023-12-18T22:56:36.933754Z",
     "shell.execute_reply.started": "2023-12-18T22:56:36.927979Z"
    }
   },
   "outputs": [
    {
     "data": {
      "text/plain": [
       "(214, 10)"
      ]
     },
     "execution_count": 17,
     "metadata": {},
     "output_type": "execute_result"
    }
   ],
   "source": [
    "df.shape"
   ]
  },
  {
   "cell_type": "code",
   "execution_count": 6,
   "metadata": {
    "execution": {
     "iopub.execute_input": "2023-12-18T22:50:50.835111Z",
     "iopub.status.busy": "2023-12-18T22:50:50.833624Z",
     "iopub.status.idle": "2023-12-18T22:50:50.871459Z",
     "shell.execute_reply": "2023-12-18T22:50:50.870061Z",
     "shell.execute_reply.started": "2023-12-18T22:50:50.835033Z"
    }
   },
   "outputs": [
    {
     "name": "stdout",
     "output_type": "stream",
     "text": [
      "<class 'pandas.core.frame.DataFrame'>\n",
      "RangeIndex: 214 entries, 0 to 213\n",
      "Data columns (total 10 columns):\n",
      " #   Column  Non-Null Count  Dtype  \n",
      "---  ------  --------------  -----  \n",
      " 0   RI      214 non-null    float64\n",
      " 1   Na      214 non-null    float64\n",
      " 2   Mg      214 non-null    float64\n",
      " 3   Al      214 non-null    float64\n",
      " 4   Si      214 non-null    float64\n",
      " 5   K       214 non-null    float64\n",
      " 6   Ca      214 non-null    float64\n",
      " 7   Ba      214 non-null    float64\n",
      " 8   Fe      214 non-null    float64\n",
      " 9   Type    214 non-null    int64  \n",
      "dtypes: float64(9), int64(1)\n",
      "memory usage: 16.8 KB\n"
     ]
    }
   ],
   "source": [
    "df.info()"
   ]
  },
  {
   "cell_type": "code",
   "execution_count": 8,
   "metadata": {
    "execution": {
     "iopub.execute_input": "2023-12-18T22:51:17.800317Z",
     "iopub.status.busy": "2023-12-18T22:51:17.799687Z",
     "iopub.status.idle": "2023-12-18T22:51:17.828477Z",
     "shell.execute_reply": "2023-12-18T22:51:17.827288Z",
     "shell.execute_reply.started": "2023-12-18T22:51:17.800269Z"
    }
   },
   "outputs": [
    {
     "data": {
      "text/html": [
       "<div>\n",
       "<style scoped>\n",
       "    .dataframe tbody tr th:only-of-type {\n",
       "        vertical-align: middle;\n",
       "    }\n",
       "\n",
       "    .dataframe tbody tr th {\n",
       "        vertical-align: top;\n",
       "    }\n",
       "\n",
       "    .dataframe thead th {\n",
       "        text-align: right;\n",
       "    }\n",
       "</style>\n",
       "<table border=\"1\" class=\"dataframe\">\n",
       "  <thead>\n",
       "    <tr style=\"text-align: right;\">\n",
       "      <th></th>\n",
       "      <th>RI</th>\n",
       "      <th>Na</th>\n",
       "      <th>Mg</th>\n",
       "      <th>Al</th>\n",
       "      <th>Si</th>\n",
       "      <th>K</th>\n",
       "      <th>Ca</th>\n",
       "      <th>Ba</th>\n",
       "      <th>Fe</th>\n",
       "      <th>Type</th>\n",
       "    </tr>\n",
       "  </thead>\n",
       "  <tbody>\n",
       "    <tr>\n",
       "      <th>RI</th>\n",
       "      <td>1.000000</td>\n",
       "      <td>-0.191885</td>\n",
       "      <td>-0.122274</td>\n",
       "      <td>-0.407326</td>\n",
       "      <td>-0.542052</td>\n",
       "      <td>-0.289833</td>\n",
       "      <td>0.810403</td>\n",
       "      <td>-0.000386</td>\n",
       "      <td>0.143010</td>\n",
       "      <td>-0.164237</td>\n",
       "    </tr>\n",
       "    <tr>\n",
       "      <th>Na</th>\n",
       "      <td>-0.191885</td>\n",
       "      <td>1.000000</td>\n",
       "      <td>-0.273732</td>\n",
       "      <td>0.156794</td>\n",
       "      <td>-0.069809</td>\n",
       "      <td>-0.266087</td>\n",
       "      <td>-0.275442</td>\n",
       "      <td>0.326603</td>\n",
       "      <td>-0.241346</td>\n",
       "      <td>0.502898</td>\n",
       "    </tr>\n",
       "    <tr>\n",
       "      <th>Mg</th>\n",
       "      <td>-0.122274</td>\n",
       "      <td>-0.273732</td>\n",
       "      <td>1.000000</td>\n",
       "      <td>-0.481799</td>\n",
       "      <td>-0.165927</td>\n",
       "      <td>0.005396</td>\n",
       "      <td>-0.443750</td>\n",
       "      <td>-0.492262</td>\n",
       "      <td>0.083060</td>\n",
       "      <td>-0.744993</td>\n",
       "    </tr>\n",
       "    <tr>\n",
       "      <th>Al</th>\n",
       "      <td>-0.407326</td>\n",
       "      <td>0.156794</td>\n",
       "      <td>-0.481799</td>\n",
       "      <td>1.000000</td>\n",
       "      <td>-0.005524</td>\n",
       "      <td>0.325958</td>\n",
       "      <td>-0.259592</td>\n",
       "      <td>0.479404</td>\n",
       "      <td>-0.074402</td>\n",
       "      <td>0.598829</td>\n",
       "    </tr>\n",
       "    <tr>\n",
       "      <th>Si</th>\n",
       "      <td>-0.542052</td>\n",
       "      <td>-0.069809</td>\n",
       "      <td>-0.165927</td>\n",
       "      <td>-0.005524</td>\n",
       "      <td>1.000000</td>\n",
       "      <td>-0.193331</td>\n",
       "      <td>-0.208732</td>\n",
       "      <td>-0.102151</td>\n",
       "      <td>-0.094201</td>\n",
       "      <td>0.151565</td>\n",
       "    </tr>\n",
       "    <tr>\n",
       "      <th>K</th>\n",
       "      <td>-0.289833</td>\n",
       "      <td>-0.266087</td>\n",
       "      <td>0.005396</td>\n",
       "      <td>0.325958</td>\n",
       "      <td>-0.193331</td>\n",
       "      <td>1.000000</td>\n",
       "      <td>-0.317836</td>\n",
       "      <td>-0.042618</td>\n",
       "      <td>-0.007719</td>\n",
       "      <td>-0.010054</td>\n",
       "    </tr>\n",
       "    <tr>\n",
       "      <th>Ca</th>\n",
       "      <td>0.810403</td>\n",
       "      <td>-0.275442</td>\n",
       "      <td>-0.443750</td>\n",
       "      <td>-0.259592</td>\n",
       "      <td>-0.208732</td>\n",
       "      <td>-0.317836</td>\n",
       "      <td>1.000000</td>\n",
       "      <td>-0.112841</td>\n",
       "      <td>0.124968</td>\n",
       "      <td>0.000952</td>\n",
       "    </tr>\n",
       "    <tr>\n",
       "      <th>Ba</th>\n",
       "      <td>-0.000386</td>\n",
       "      <td>0.326603</td>\n",
       "      <td>-0.492262</td>\n",
       "      <td>0.479404</td>\n",
       "      <td>-0.102151</td>\n",
       "      <td>-0.042618</td>\n",
       "      <td>-0.112841</td>\n",
       "      <td>1.000000</td>\n",
       "      <td>-0.058692</td>\n",
       "      <td>0.575161</td>\n",
       "    </tr>\n",
       "    <tr>\n",
       "      <th>Fe</th>\n",
       "      <td>0.143010</td>\n",
       "      <td>-0.241346</td>\n",
       "      <td>0.083060</td>\n",
       "      <td>-0.074402</td>\n",
       "      <td>-0.094201</td>\n",
       "      <td>-0.007719</td>\n",
       "      <td>0.124968</td>\n",
       "      <td>-0.058692</td>\n",
       "      <td>1.000000</td>\n",
       "      <td>-0.188278</td>\n",
       "    </tr>\n",
       "    <tr>\n",
       "      <th>Type</th>\n",
       "      <td>-0.164237</td>\n",
       "      <td>0.502898</td>\n",
       "      <td>-0.744993</td>\n",
       "      <td>0.598829</td>\n",
       "      <td>0.151565</td>\n",
       "      <td>-0.010054</td>\n",
       "      <td>0.000952</td>\n",
       "      <td>0.575161</td>\n",
       "      <td>-0.188278</td>\n",
       "      <td>1.000000</td>\n",
       "    </tr>\n",
       "  </tbody>\n",
       "</table>\n",
       "</div>"
      ],
      "text/plain": [
       "            RI        Na        Mg        Al        Si         K        Ca  \\\n",
       "RI    1.000000 -0.191885 -0.122274 -0.407326 -0.542052 -0.289833  0.810403   \n",
       "Na   -0.191885  1.000000 -0.273732  0.156794 -0.069809 -0.266087 -0.275442   \n",
       "Mg   -0.122274 -0.273732  1.000000 -0.481799 -0.165927  0.005396 -0.443750   \n",
       "Al   -0.407326  0.156794 -0.481799  1.000000 -0.005524  0.325958 -0.259592   \n",
       "Si   -0.542052 -0.069809 -0.165927 -0.005524  1.000000 -0.193331 -0.208732   \n",
       "K    -0.289833 -0.266087  0.005396  0.325958 -0.193331  1.000000 -0.317836   \n",
       "Ca    0.810403 -0.275442 -0.443750 -0.259592 -0.208732 -0.317836  1.000000   \n",
       "Ba   -0.000386  0.326603 -0.492262  0.479404 -0.102151 -0.042618 -0.112841   \n",
       "Fe    0.143010 -0.241346  0.083060 -0.074402 -0.094201 -0.007719  0.124968   \n",
       "Type -0.164237  0.502898 -0.744993  0.598829  0.151565 -0.010054  0.000952   \n",
       "\n",
       "            Ba        Fe      Type  \n",
       "RI   -0.000386  0.143010 -0.164237  \n",
       "Na    0.326603 -0.241346  0.502898  \n",
       "Mg   -0.492262  0.083060 -0.744993  \n",
       "Al    0.479404 -0.074402  0.598829  \n",
       "Si   -0.102151 -0.094201  0.151565  \n",
       "K    -0.042618 -0.007719 -0.010054  \n",
       "Ca   -0.112841  0.124968  0.000952  \n",
       "Ba    1.000000 -0.058692  0.575161  \n",
       "Fe   -0.058692  1.000000 -0.188278  \n",
       "Type  0.575161 -0.188278  1.000000  "
      ]
     },
     "execution_count": 8,
     "metadata": {},
     "output_type": "execute_result"
    }
   ],
   "source": [
    "df.corr()"
   ]
  },
  {
   "cell_type": "code",
   "execution_count": 10,
   "metadata": {
    "execution": {
     "iopub.execute_input": "2023-12-18T22:51:34.369398Z",
     "iopub.status.busy": "2023-12-18T22:51:34.368450Z",
     "iopub.status.idle": "2023-12-18T22:51:34.426305Z",
     "shell.execute_reply": "2023-12-18T22:51:34.425103Z",
     "shell.execute_reply.started": "2023-12-18T22:51:34.369168Z"
    }
   },
   "outputs": [
    {
     "data": {
      "text/html": [
       "<div>\n",
       "<style scoped>\n",
       "    .dataframe tbody tr th:only-of-type {\n",
       "        vertical-align: middle;\n",
       "    }\n",
       "\n",
       "    .dataframe tbody tr th {\n",
       "        vertical-align: top;\n",
       "    }\n",
       "\n",
       "    .dataframe thead th {\n",
       "        text-align: right;\n",
       "    }\n",
       "</style>\n",
       "<table border=\"1\" class=\"dataframe\">\n",
       "  <thead>\n",
       "    <tr style=\"text-align: right;\">\n",
       "      <th></th>\n",
       "      <th>count</th>\n",
       "      <th>mean</th>\n",
       "      <th>std</th>\n",
       "      <th>min</th>\n",
       "      <th>25%</th>\n",
       "      <th>50%</th>\n",
       "      <th>75%</th>\n",
       "      <th>max</th>\n",
       "    </tr>\n",
       "  </thead>\n",
       "  <tbody>\n",
       "    <tr>\n",
       "      <th>RI</th>\n",
       "      <td>214.0</td>\n",
       "      <td>1.518365</td>\n",
       "      <td>0.003037</td>\n",
       "      <td>1.51115</td>\n",
       "      <td>1.516522</td>\n",
       "      <td>1.51768</td>\n",
       "      <td>1.519157</td>\n",
       "      <td>1.53393</td>\n",
       "    </tr>\n",
       "    <tr>\n",
       "      <th>Na</th>\n",
       "      <td>214.0</td>\n",
       "      <td>13.407850</td>\n",
       "      <td>0.816604</td>\n",
       "      <td>10.73000</td>\n",
       "      <td>12.907500</td>\n",
       "      <td>13.30000</td>\n",
       "      <td>13.825000</td>\n",
       "      <td>17.38000</td>\n",
       "    </tr>\n",
       "    <tr>\n",
       "      <th>Mg</th>\n",
       "      <td>214.0</td>\n",
       "      <td>2.684533</td>\n",
       "      <td>1.442408</td>\n",
       "      <td>0.00000</td>\n",
       "      <td>2.115000</td>\n",
       "      <td>3.48000</td>\n",
       "      <td>3.600000</td>\n",
       "      <td>4.49000</td>\n",
       "    </tr>\n",
       "    <tr>\n",
       "      <th>Al</th>\n",
       "      <td>214.0</td>\n",
       "      <td>1.444907</td>\n",
       "      <td>0.499270</td>\n",
       "      <td>0.29000</td>\n",
       "      <td>1.190000</td>\n",
       "      <td>1.36000</td>\n",
       "      <td>1.630000</td>\n",
       "      <td>3.50000</td>\n",
       "    </tr>\n",
       "    <tr>\n",
       "      <th>Si</th>\n",
       "      <td>214.0</td>\n",
       "      <td>72.650935</td>\n",
       "      <td>0.774546</td>\n",
       "      <td>69.81000</td>\n",
       "      <td>72.280000</td>\n",
       "      <td>72.79000</td>\n",
       "      <td>73.087500</td>\n",
       "      <td>75.41000</td>\n",
       "    </tr>\n",
       "    <tr>\n",
       "      <th>K</th>\n",
       "      <td>214.0</td>\n",
       "      <td>0.497056</td>\n",
       "      <td>0.652192</td>\n",
       "      <td>0.00000</td>\n",
       "      <td>0.122500</td>\n",
       "      <td>0.55500</td>\n",
       "      <td>0.610000</td>\n",
       "      <td>6.21000</td>\n",
       "    </tr>\n",
       "    <tr>\n",
       "      <th>Ca</th>\n",
       "      <td>214.0</td>\n",
       "      <td>8.956963</td>\n",
       "      <td>1.423153</td>\n",
       "      <td>5.43000</td>\n",
       "      <td>8.240000</td>\n",
       "      <td>8.60000</td>\n",
       "      <td>9.172500</td>\n",
       "      <td>16.19000</td>\n",
       "    </tr>\n",
       "    <tr>\n",
       "      <th>Ba</th>\n",
       "      <td>214.0</td>\n",
       "      <td>0.175047</td>\n",
       "      <td>0.497219</td>\n",
       "      <td>0.00000</td>\n",
       "      <td>0.000000</td>\n",
       "      <td>0.00000</td>\n",
       "      <td>0.000000</td>\n",
       "      <td>3.15000</td>\n",
       "    </tr>\n",
       "    <tr>\n",
       "      <th>Fe</th>\n",
       "      <td>214.0</td>\n",
       "      <td>0.057009</td>\n",
       "      <td>0.097439</td>\n",
       "      <td>0.00000</td>\n",
       "      <td>0.000000</td>\n",
       "      <td>0.00000</td>\n",
       "      <td>0.100000</td>\n",
       "      <td>0.51000</td>\n",
       "    </tr>\n",
       "    <tr>\n",
       "      <th>Type</th>\n",
       "      <td>214.0</td>\n",
       "      <td>2.780374</td>\n",
       "      <td>2.103739</td>\n",
       "      <td>1.00000</td>\n",
       "      <td>1.000000</td>\n",
       "      <td>2.00000</td>\n",
       "      <td>3.000000</td>\n",
       "      <td>7.00000</td>\n",
       "    </tr>\n",
       "  </tbody>\n",
       "</table>\n",
       "</div>"
      ],
      "text/plain": [
       "      count       mean       std       min        25%       50%        75%  \\\n",
       "RI    214.0   1.518365  0.003037   1.51115   1.516522   1.51768   1.519157   \n",
       "Na    214.0  13.407850  0.816604  10.73000  12.907500  13.30000  13.825000   \n",
       "Mg    214.0   2.684533  1.442408   0.00000   2.115000   3.48000   3.600000   \n",
       "Al    214.0   1.444907  0.499270   0.29000   1.190000   1.36000   1.630000   \n",
       "Si    214.0  72.650935  0.774546  69.81000  72.280000  72.79000  73.087500   \n",
       "K     214.0   0.497056  0.652192   0.00000   0.122500   0.55500   0.610000   \n",
       "Ca    214.0   8.956963  1.423153   5.43000   8.240000   8.60000   9.172500   \n",
       "Ba    214.0   0.175047  0.497219   0.00000   0.000000   0.00000   0.000000   \n",
       "Fe    214.0   0.057009  0.097439   0.00000   0.000000   0.00000   0.100000   \n",
       "Type  214.0   2.780374  2.103739   1.00000   1.000000   2.00000   3.000000   \n",
       "\n",
       "           max  \n",
       "RI     1.53393  \n",
       "Na    17.38000  \n",
       "Mg     4.49000  \n",
       "Al     3.50000  \n",
       "Si    75.41000  \n",
       "K      6.21000  \n",
       "Ca    16.19000  \n",
       "Ba     3.15000  \n",
       "Fe     0.51000  \n",
       "Type   7.00000  "
      ]
     },
     "execution_count": 10,
     "metadata": {},
     "output_type": "execute_result"
    }
   ],
   "source": [
    "df.describe().T"
   ]
  },
  {
   "cell_type": "code",
   "execution_count": 11,
   "metadata": {
    "execution": {
     "iopub.execute_input": "2023-12-18T22:51:47.008576Z",
     "iopub.status.busy": "2023-12-18T22:51:47.008022Z",
     "iopub.status.idle": "2023-12-18T22:51:47.019467Z",
     "shell.execute_reply": "2023-12-18T22:51:47.017689Z",
     "shell.execute_reply.started": "2023-12-18T22:51:47.008510Z"
    }
   },
   "outputs": [
    {
     "data": {
      "text/plain": [
       "RI      0\n",
       "Na      0\n",
       "Mg      0\n",
       "Al      0\n",
       "Si      0\n",
       "K       0\n",
       "Ca      0\n",
       "Ba      0\n",
       "Fe      0\n",
       "Type    0\n",
       "dtype: int64"
      ]
     },
     "execution_count": 11,
     "metadata": {},
     "output_type": "execute_result"
    }
   ],
   "source": [
    "df.isnull().sum()"
   ]
  },
  {
   "cell_type": "code",
   "execution_count": 12,
   "metadata": {
    "execution": {
     "iopub.execute_input": "2023-12-18T22:52:28.384872Z",
     "iopub.status.busy": "2023-12-18T22:52:28.383630Z",
     "iopub.status.idle": "2023-12-18T22:52:28.395930Z",
     "shell.execute_reply": "2023-12-18T22:52:28.394502Z",
     "shell.execute_reply.started": "2023-12-18T22:52:28.384806Z"
    }
   },
   "outputs": [
    {
     "data": {
      "text/plain": [
       "array([1, 2, 3, 5, 6, 7])"
      ]
     },
     "execution_count": 12,
     "metadata": {},
     "output_type": "execute_result"
    }
   ],
   "source": [
    "df[\"Type\"].unique()"
   ]
  },
  {
   "cell_type": "code",
   "execution_count": 14,
   "metadata": {
    "execution": {
     "iopub.execute_input": "2023-12-18T22:53:44.408498Z",
     "iopub.status.busy": "2023-12-18T22:53:44.408062Z",
     "iopub.status.idle": "2023-12-18T22:53:44.415568Z",
     "shell.execute_reply": "2023-12-18T22:53:44.413327Z",
     "shell.execute_reply.started": "2023-12-18T22:53:44.408462Z"
    }
   },
   "outputs": [],
   "source": [
    "# we turn to object because they are nor oridinal\n",
    "df[\"Type\"]=df[\"Type\"].astype(\"object\")"
   ]
  },
  {
   "cell_type": "code",
   "execution_count": 15,
   "metadata": {
    "execution": {
     "iopub.execute_input": "2023-12-18T22:54:43.097377Z",
     "iopub.status.busy": "2023-12-18T22:54:43.096782Z",
     "iopub.status.idle": "2023-12-18T22:54:43.109477Z",
     "shell.execute_reply": "2023-12-18T22:54:43.107957Z",
     "shell.execute_reply.started": "2023-12-18T22:54:43.097321Z"
    }
   },
   "outputs": [],
   "source": [
    "#preprocesing\n",
    "X=df.drop(\"Type\",axis=1)\n",
    "y=df[\"Type\"]"
   ]
  },
  {
   "cell_type": "code",
   "execution_count": 16,
   "metadata": {
    "execution": {
     "iopub.execute_input": "2023-12-18T22:56:25.724865Z",
     "iopub.status.busy": "2023-12-18T22:56:25.724415Z",
     "iopub.status.idle": "2023-12-18T22:56:25.741781Z",
     "shell.execute_reply": "2023-12-18T22:56:25.740391Z",
     "shell.execute_reply.started": "2023-12-18T22:56:25.724832Z"
    }
   },
   "outputs": [],
   "source": [
    "# split the data into training and testing sets\n",
    "X_train, X_test, y_train, y_test = train_test_split(X, y, test_size=0.2, random_state=42)\n",
    "# standardize the features\n",
    "scaler = StandardScaler()\n",
    "X_train = scaler.fit_transform(X_train)\n",
    "X_test = scaler.transform(X_test)"
   ]
  },
  {
   "cell_type": "code",
   "execution_count": 21,
   "metadata": {
    "execution": {
     "iopub.execute_input": "2023-12-18T22:59:32.808981Z",
     "iopub.status.busy": "2023-12-18T22:59:32.808545Z",
     "iopub.status.idle": "2023-12-18T22:59:32.814802Z",
     "shell.execute_reply": "2023-12-18T22:59:32.813541Z",
     "shell.execute_reply.started": "2023-12-18T22:59:32.808944Z"
    }
   },
   "outputs": [],
   "source": [
    "#!pip install pycaret"
   ]
  },
  {
   "cell_type": "code",
   "execution_count": 22,
   "metadata": {
    "execution": {
     "iopub.execute_input": "2023-12-18T22:59:35.436020Z",
     "iopub.status.busy": "2023-12-18T22:59:35.435598Z",
     "iopub.status.idle": "2023-12-18T22:59:42.732313Z",
     "shell.execute_reply": "2023-12-18T22:59:42.731427Z",
     "shell.execute_reply.started": "2023-12-18T22:59:35.435987Z"
    }
   },
   "outputs": [
    {
     "data": {
      "text/html": [
       "<style type=\"text/css\">\n",
       "#T_cf48c_row9_col1 {\n",
       "  background-color: lightgreen;\n",
       "}\n",
       "</style>\n",
       "<table id=\"T_cf48c\">\n",
       "  <thead>\n",
       "    <tr>\n",
       "      <th class=\"blank level0\" >&nbsp;</th>\n",
       "      <th id=\"T_cf48c_level0_col0\" class=\"col_heading level0 col0\" >Description</th>\n",
       "      <th id=\"T_cf48c_level0_col1\" class=\"col_heading level0 col1\" >Value</th>\n",
       "    </tr>\n",
       "  </thead>\n",
       "  <tbody>\n",
       "    <tr>\n",
       "      <th id=\"T_cf48c_level0_row0\" class=\"row_heading level0 row0\" >0</th>\n",
       "      <td id=\"T_cf48c_row0_col0\" class=\"data row0 col0\" >Session id</td>\n",
       "      <td id=\"T_cf48c_row0_col1\" class=\"data row0 col1\" >550</td>\n",
       "    </tr>\n",
       "    <tr>\n",
       "      <th id=\"T_cf48c_level0_row1\" class=\"row_heading level0 row1\" >1</th>\n",
       "      <td id=\"T_cf48c_row1_col0\" class=\"data row1 col0\" >Target</td>\n",
       "      <td id=\"T_cf48c_row1_col1\" class=\"data row1 col1\" >Type</td>\n",
       "    </tr>\n",
       "    <tr>\n",
       "      <th id=\"T_cf48c_level0_row2\" class=\"row_heading level0 row2\" >2</th>\n",
       "      <td id=\"T_cf48c_row2_col0\" class=\"data row2 col0\" >Target type</td>\n",
       "      <td id=\"T_cf48c_row2_col1\" class=\"data row2 col1\" >Multiclass</td>\n",
       "    </tr>\n",
       "    <tr>\n",
       "      <th id=\"T_cf48c_level0_row3\" class=\"row_heading level0 row3\" >3</th>\n",
       "      <td id=\"T_cf48c_row3_col0\" class=\"data row3 col0\" >Target mapping</td>\n",
       "      <td id=\"T_cf48c_row3_col1\" class=\"data row3 col1\" >1: 0, 2: 1, 3: 2, 5: 3, 6: 4, 7: 5</td>\n",
       "    </tr>\n",
       "    <tr>\n",
       "      <th id=\"T_cf48c_level0_row4\" class=\"row_heading level0 row4\" >4</th>\n",
       "      <td id=\"T_cf48c_row4_col0\" class=\"data row4 col0\" >Original data shape</td>\n",
       "      <td id=\"T_cf48c_row4_col1\" class=\"data row4 col1\" >(214, 10)</td>\n",
       "    </tr>\n",
       "    <tr>\n",
       "      <th id=\"T_cf48c_level0_row5\" class=\"row_heading level0 row5\" >5</th>\n",
       "      <td id=\"T_cf48c_row5_col0\" class=\"data row5 col0\" >Transformed data shape</td>\n",
       "      <td id=\"T_cf48c_row5_col1\" class=\"data row5 col1\" >(214, 10)</td>\n",
       "    </tr>\n",
       "    <tr>\n",
       "      <th id=\"T_cf48c_level0_row6\" class=\"row_heading level0 row6\" >6</th>\n",
       "      <td id=\"T_cf48c_row6_col0\" class=\"data row6 col0\" >Transformed train set shape</td>\n",
       "      <td id=\"T_cf48c_row6_col1\" class=\"data row6 col1\" >(149, 10)</td>\n",
       "    </tr>\n",
       "    <tr>\n",
       "      <th id=\"T_cf48c_level0_row7\" class=\"row_heading level0 row7\" >7</th>\n",
       "      <td id=\"T_cf48c_row7_col0\" class=\"data row7 col0\" >Transformed test set shape</td>\n",
       "      <td id=\"T_cf48c_row7_col1\" class=\"data row7 col1\" >(65, 10)</td>\n",
       "    </tr>\n",
       "    <tr>\n",
       "      <th id=\"T_cf48c_level0_row8\" class=\"row_heading level0 row8\" >8</th>\n",
       "      <td id=\"T_cf48c_row8_col0\" class=\"data row8 col0\" >Numeric features</td>\n",
       "      <td id=\"T_cf48c_row8_col1\" class=\"data row8 col1\" >9</td>\n",
       "    </tr>\n",
       "    <tr>\n",
       "      <th id=\"T_cf48c_level0_row9\" class=\"row_heading level0 row9\" >9</th>\n",
       "      <td id=\"T_cf48c_row9_col0\" class=\"data row9 col0\" >Preprocess</td>\n",
       "      <td id=\"T_cf48c_row9_col1\" class=\"data row9 col1\" >True</td>\n",
       "    </tr>\n",
       "    <tr>\n",
       "      <th id=\"T_cf48c_level0_row10\" class=\"row_heading level0 row10\" >10</th>\n",
       "      <td id=\"T_cf48c_row10_col0\" class=\"data row10 col0\" >Imputation type</td>\n",
       "      <td id=\"T_cf48c_row10_col1\" class=\"data row10 col1\" >simple</td>\n",
       "    </tr>\n",
       "    <tr>\n",
       "      <th id=\"T_cf48c_level0_row11\" class=\"row_heading level0 row11\" >11</th>\n",
       "      <td id=\"T_cf48c_row11_col0\" class=\"data row11 col0\" >Numeric imputation</td>\n",
       "      <td id=\"T_cf48c_row11_col1\" class=\"data row11 col1\" >mean</td>\n",
       "    </tr>\n",
       "    <tr>\n",
       "      <th id=\"T_cf48c_level0_row12\" class=\"row_heading level0 row12\" >12</th>\n",
       "      <td id=\"T_cf48c_row12_col0\" class=\"data row12 col0\" >Categorical imputation</td>\n",
       "      <td id=\"T_cf48c_row12_col1\" class=\"data row12 col1\" >mode</td>\n",
       "    </tr>\n",
       "    <tr>\n",
       "      <th id=\"T_cf48c_level0_row13\" class=\"row_heading level0 row13\" >13</th>\n",
       "      <td id=\"T_cf48c_row13_col0\" class=\"data row13 col0\" >Fold Generator</td>\n",
       "      <td id=\"T_cf48c_row13_col1\" class=\"data row13 col1\" >StratifiedKFold</td>\n",
       "    </tr>\n",
       "    <tr>\n",
       "      <th id=\"T_cf48c_level0_row14\" class=\"row_heading level0 row14\" >14</th>\n",
       "      <td id=\"T_cf48c_row14_col0\" class=\"data row14 col0\" >Fold Number</td>\n",
       "      <td id=\"T_cf48c_row14_col1\" class=\"data row14 col1\" >10</td>\n",
       "    </tr>\n",
       "    <tr>\n",
       "      <th id=\"T_cf48c_level0_row15\" class=\"row_heading level0 row15\" >15</th>\n",
       "      <td id=\"T_cf48c_row15_col0\" class=\"data row15 col0\" >CPU Jobs</td>\n",
       "      <td id=\"T_cf48c_row15_col1\" class=\"data row15 col1\" >-1</td>\n",
       "    </tr>\n",
       "    <tr>\n",
       "      <th id=\"T_cf48c_level0_row16\" class=\"row_heading level0 row16\" >16</th>\n",
       "      <td id=\"T_cf48c_row16_col0\" class=\"data row16 col0\" >Use GPU</td>\n",
       "      <td id=\"T_cf48c_row16_col1\" class=\"data row16 col1\" >False</td>\n",
       "    </tr>\n",
       "    <tr>\n",
       "      <th id=\"T_cf48c_level0_row17\" class=\"row_heading level0 row17\" >17</th>\n",
       "      <td id=\"T_cf48c_row17_col0\" class=\"data row17 col0\" >Log Experiment</td>\n",
       "      <td id=\"T_cf48c_row17_col1\" class=\"data row17 col1\" >False</td>\n",
       "    </tr>\n",
       "    <tr>\n",
       "      <th id=\"T_cf48c_level0_row18\" class=\"row_heading level0 row18\" >18</th>\n",
       "      <td id=\"T_cf48c_row18_col0\" class=\"data row18 col0\" >Experiment Name</td>\n",
       "      <td id=\"T_cf48c_row18_col1\" class=\"data row18 col1\" >clf-default-name</td>\n",
       "    </tr>\n",
       "    <tr>\n",
       "      <th id=\"T_cf48c_level0_row19\" class=\"row_heading level0 row19\" >19</th>\n",
       "      <td id=\"T_cf48c_row19_col0\" class=\"data row19 col0\" >USI</td>\n",
       "      <td id=\"T_cf48c_row19_col1\" class=\"data row19 col1\" >aeaa</td>\n",
       "    </tr>\n",
       "  </tbody>\n",
       "</table>\n"
      ],
      "text/plain": [
       "<pandas.io.formats.style.Styler at 0x7e088e5ecf70>"
      ]
     },
     "metadata": {},
     "output_type": "display_data"
    },
    {
     "data": {
      "text/plain": [
       "<pycaret.classification.oop.ClassificationExperiment at 0x7e088f412200>"
      ]
     },
     "execution_count": 22,
     "metadata": {},
     "output_type": "execute_result"
    }
   ],
   "source": [
    "#auto ml\n",
    "from pycaret.classification import*\n",
    "# setup data\n",
    "setup(data=df,target=\"Type\")"
   ]
  },
  {
   "cell_type": "code",
   "execution_count": 23,
   "metadata": {
    "execution": {
     "iopub.execute_input": "2023-12-18T22:59:45.496521Z",
     "iopub.status.busy": "2023-12-18T22:59:45.495074Z",
     "iopub.status.idle": "2023-12-18T23:00:46.115889Z",
     "shell.execute_reply": "2023-12-18T23:00:46.114489Z",
     "shell.execute_reply.started": "2023-12-18T22:59:45.496470Z"
    }
   },
   "outputs": [
    {
     "data": {
      "text/html": [],
      "text/plain": [
       "<IPython.core.display.HTML object>"
      ]
     },
     "metadata": {},
     "output_type": "display_data"
    },
    {
     "data": {
      "text/html": [
       "<style type=\"text/css\">\n",
       "#T_4db44 th {\n",
       "  text-align: left;\n",
       "}\n",
       "#T_4db44_row0_col0, #T_4db44_row0_col2, #T_4db44_row1_col0, #T_4db44_row1_col1, #T_4db44_row1_col2, #T_4db44_row1_col3, #T_4db44_row1_col4, #T_4db44_row1_col5, #T_4db44_row1_col6, #T_4db44_row1_col7, #T_4db44_row2_col0, #T_4db44_row2_col1, #T_4db44_row2_col3, #T_4db44_row2_col4, #T_4db44_row2_col5, #T_4db44_row2_col6, #T_4db44_row2_col7, #T_4db44_row3_col0, #T_4db44_row3_col1, #T_4db44_row3_col2, #T_4db44_row3_col3, #T_4db44_row3_col4, #T_4db44_row3_col5, #T_4db44_row3_col6, #T_4db44_row3_col7, #T_4db44_row4_col0, #T_4db44_row4_col1, #T_4db44_row4_col2, #T_4db44_row4_col3, #T_4db44_row4_col4, #T_4db44_row4_col5, #T_4db44_row4_col6, #T_4db44_row4_col7, #T_4db44_row5_col0, #T_4db44_row5_col1, #T_4db44_row5_col2, #T_4db44_row5_col3, #T_4db44_row5_col4, #T_4db44_row5_col5, #T_4db44_row5_col6, #T_4db44_row5_col7, #T_4db44_row6_col0, #T_4db44_row6_col1, #T_4db44_row6_col2, #T_4db44_row6_col3, #T_4db44_row6_col4, #T_4db44_row6_col5, #T_4db44_row6_col6, #T_4db44_row6_col7, #T_4db44_row7_col0, #T_4db44_row7_col1, #T_4db44_row7_col2, #T_4db44_row7_col3, #T_4db44_row7_col4, #T_4db44_row7_col5, #T_4db44_row7_col6, #T_4db44_row7_col7, #T_4db44_row8_col0, #T_4db44_row8_col1, #T_4db44_row8_col2, #T_4db44_row8_col3, #T_4db44_row8_col4, #T_4db44_row8_col5, #T_4db44_row8_col6, #T_4db44_row8_col7, #T_4db44_row9_col0, #T_4db44_row9_col1, #T_4db44_row9_col2, #T_4db44_row9_col3, #T_4db44_row9_col4, #T_4db44_row9_col5, #T_4db44_row9_col6, #T_4db44_row9_col7, #T_4db44_row10_col0, #T_4db44_row10_col1, #T_4db44_row10_col2, #T_4db44_row10_col3, #T_4db44_row10_col4, #T_4db44_row10_col5, #T_4db44_row10_col6, #T_4db44_row10_col7, #T_4db44_row11_col0, #T_4db44_row11_col1, #T_4db44_row11_col2, #T_4db44_row11_col3, #T_4db44_row11_col4, #T_4db44_row11_col5, #T_4db44_row11_col6, #T_4db44_row11_col7, #T_4db44_row12_col0, #T_4db44_row12_col1, #T_4db44_row12_col2, #T_4db44_row12_col3, #T_4db44_row12_col4, #T_4db44_row12_col5, #T_4db44_row12_col6, #T_4db44_row12_col7, #T_4db44_row13_col0, #T_4db44_row13_col1, #T_4db44_row13_col2, #T_4db44_row13_col3, #T_4db44_row13_col4, #T_4db44_row13_col5, #T_4db44_row13_col6, #T_4db44_row13_col7, #T_4db44_row14_col0, #T_4db44_row14_col1, #T_4db44_row14_col2, #T_4db44_row14_col3, #T_4db44_row14_col4, #T_4db44_row14_col5, #T_4db44_row14_col6, #T_4db44_row14_col7, #T_4db44_row15_col0, #T_4db44_row15_col1, #T_4db44_row15_col2, #T_4db44_row15_col3, #T_4db44_row15_col4, #T_4db44_row15_col5, #T_4db44_row15_col6, #T_4db44_row15_col7 {\n",
       "  text-align: left;\n",
       "}\n",
       "#T_4db44_row0_col1, #T_4db44_row0_col3, #T_4db44_row0_col4, #T_4db44_row0_col5, #T_4db44_row0_col6, #T_4db44_row0_col7, #T_4db44_row2_col2 {\n",
       "  text-align: left;\n",
       "  background-color: yellow;\n",
       "}\n",
       "#T_4db44_row0_col8, #T_4db44_row1_col8, #T_4db44_row2_col8, #T_4db44_row3_col8, #T_4db44_row4_col8, #T_4db44_row5_col8, #T_4db44_row6_col8, #T_4db44_row7_col8, #T_4db44_row8_col8, #T_4db44_row9_col8, #T_4db44_row11_col8, #T_4db44_row12_col8, #T_4db44_row13_col8, #T_4db44_row14_col8, #T_4db44_row15_col8 {\n",
       "  text-align: left;\n",
       "  background-color: lightgrey;\n",
       "}\n",
       "#T_4db44_row10_col8 {\n",
       "  text-align: left;\n",
       "  background-color: yellow;\n",
       "  background-color: lightgrey;\n",
       "}\n",
       "</style>\n",
       "<table id=\"T_4db44\">\n",
       "  <thead>\n",
       "    <tr>\n",
       "      <th class=\"blank level0\" >&nbsp;</th>\n",
       "      <th id=\"T_4db44_level0_col0\" class=\"col_heading level0 col0\" >Model</th>\n",
       "      <th id=\"T_4db44_level0_col1\" class=\"col_heading level0 col1\" >Accuracy</th>\n",
       "      <th id=\"T_4db44_level0_col2\" class=\"col_heading level0 col2\" >AUC</th>\n",
       "      <th id=\"T_4db44_level0_col3\" class=\"col_heading level0 col3\" >Recall</th>\n",
       "      <th id=\"T_4db44_level0_col4\" class=\"col_heading level0 col4\" >Prec.</th>\n",
       "      <th id=\"T_4db44_level0_col5\" class=\"col_heading level0 col5\" >F1</th>\n",
       "      <th id=\"T_4db44_level0_col6\" class=\"col_heading level0 col6\" >Kappa</th>\n",
       "      <th id=\"T_4db44_level0_col7\" class=\"col_heading level0 col7\" >MCC</th>\n",
       "      <th id=\"T_4db44_level0_col8\" class=\"col_heading level0 col8\" >TT (Sec)</th>\n",
       "    </tr>\n",
       "  </thead>\n",
       "  <tbody>\n",
       "    <tr>\n",
       "      <th id=\"T_4db44_level0_row0\" class=\"row_heading level0 row0\" >et</th>\n",
       "      <td id=\"T_4db44_row0_col0\" class=\"data row0 col0\" >Extra Trees Classifier</td>\n",
       "      <td id=\"T_4db44_row0_col1\" class=\"data row0 col1\" >0.8262</td>\n",
       "      <td id=\"T_4db44_row0_col2\" class=\"data row0 col2\" >0.4750</td>\n",
       "      <td id=\"T_4db44_row0_col3\" class=\"data row0 col3\" >0.8262</td>\n",
       "      <td id=\"T_4db44_row0_col4\" class=\"data row0 col4\" >0.8246</td>\n",
       "      <td id=\"T_4db44_row0_col5\" class=\"data row0 col5\" >0.8063</td>\n",
       "      <td id=\"T_4db44_row0_col6\" class=\"data row0 col6\" >0.7614</td>\n",
       "      <td id=\"T_4db44_row0_col7\" class=\"data row0 col7\" >0.7767</td>\n",
       "      <td id=\"T_4db44_row0_col8\" class=\"data row0 col8\" >0.1340</td>\n",
       "    </tr>\n",
       "    <tr>\n",
       "      <th id=\"T_4db44_level0_row1\" class=\"row_heading level0 row1\" >catboost</th>\n",
       "      <td id=\"T_4db44_row1_col0\" class=\"data row1 col0\" >CatBoost Classifier</td>\n",
       "      <td id=\"T_4db44_row1_col1\" class=\"data row1 col1\" >0.8062</td>\n",
       "      <td id=\"T_4db44_row1_col2\" class=\"data row1 col2\" >0.4769</td>\n",
       "      <td id=\"T_4db44_row1_col3\" class=\"data row1 col3\" >0.8062</td>\n",
       "      <td id=\"T_4db44_row1_col4\" class=\"data row1 col4\" >0.7953</td>\n",
       "      <td id=\"T_4db44_row1_col5\" class=\"data row1 col5\" >0.7819</td>\n",
       "      <td id=\"T_4db44_row1_col6\" class=\"data row1 col6\" >0.7330</td>\n",
       "      <td id=\"T_4db44_row1_col7\" class=\"data row1 col7\" >0.7472</td>\n",
       "      <td id=\"T_4db44_row1_col8\" class=\"data row1 col8\" >3.1210</td>\n",
       "    </tr>\n",
       "    <tr>\n",
       "      <th id=\"T_4db44_level0_row2\" class=\"row_heading level0 row2\" >lightgbm</th>\n",
       "      <td id=\"T_4db44_row2_col0\" class=\"data row2 col0\" >Light Gradient Boosting Machine</td>\n",
       "      <td id=\"T_4db44_row2_col1\" class=\"data row2 col1\" >0.8052</td>\n",
       "      <td id=\"T_4db44_row2_col2\" class=\"data row2 col2\" >0.4796</td>\n",
       "      <td id=\"T_4db44_row2_col3\" class=\"data row2 col3\" >0.8052</td>\n",
       "      <td id=\"T_4db44_row2_col4\" class=\"data row2 col4\" >0.7864</td>\n",
       "      <td id=\"T_4db44_row2_col5\" class=\"data row2 col5\" >0.7740</td>\n",
       "      <td id=\"T_4db44_row2_col6\" class=\"data row2 col6\" >0.7284</td>\n",
       "      <td id=\"T_4db44_row2_col7\" class=\"data row2 col7\" >0.7485</td>\n",
       "      <td id=\"T_4db44_row2_col8\" class=\"data row2 col8\" >0.2540</td>\n",
       "    </tr>\n",
       "    <tr>\n",
       "      <th id=\"T_4db44_level0_row3\" class=\"row_heading level0 row3\" >rf</th>\n",
       "      <td id=\"T_4db44_row3_col0\" class=\"data row3 col0\" >Random Forest Classifier</td>\n",
       "      <td id=\"T_4db44_row3_col1\" class=\"data row3 col1\" >0.7867</td>\n",
       "      <td id=\"T_4db44_row3_col2\" class=\"data row3 col2\" >0.4784</td>\n",
       "      <td id=\"T_4db44_row3_col3\" class=\"data row3 col3\" >0.7867</td>\n",
       "      <td id=\"T_4db44_row3_col4\" class=\"data row3 col4\" >0.7641</td>\n",
       "      <td id=\"T_4db44_row3_col5\" class=\"data row3 col5\" >0.7636</td>\n",
       "      <td id=\"T_4db44_row3_col6\" class=\"data row3 col6\" >0.7085</td>\n",
       "      <td id=\"T_4db44_row3_col7\" class=\"data row3 col7\" >0.7184</td>\n",
       "      <td id=\"T_4db44_row3_col8\" class=\"data row3 col8\" >0.1650</td>\n",
       "    </tr>\n",
       "    <tr>\n",
       "      <th id=\"T_4db44_level0_row4\" class=\"row_heading level0 row4\" >xgboost</th>\n",
       "      <td id=\"T_4db44_row4_col0\" class=\"data row4 col0\" >Extreme Gradient Boosting</td>\n",
       "      <td id=\"T_4db44_row4_col1\" class=\"data row4 col1\" >0.7390</td>\n",
       "      <td id=\"T_4db44_row4_col2\" class=\"data row4 col2\" >0.4705</td>\n",
       "      <td id=\"T_4db44_row4_col3\" class=\"data row4 col3\" >0.7390</td>\n",
       "      <td id=\"T_4db44_row4_col4\" class=\"data row4 col4\" >0.7229</td>\n",
       "      <td id=\"T_4db44_row4_col5\" class=\"data row4 col5\" >0.7135</td>\n",
       "      <td id=\"T_4db44_row4_col6\" class=\"data row4 col6\" >0.6404</td>\n",
       "      <td id=\"T_4db44_row4_col7\" class=\"data row4 col7\" >0.6558</td>\n",
       "      <td id=\"T_4db44_row4_col8\" class=\"data row4 col8\" >0.0810</td>\n",
       "    </tr>\n",
       "    <tr>\n",
       "      <th id=\"T_4db44_level0_row5\" class=\"row_heading level0 row5\" >dt</th>\n",
       "      <td id=\"T_4db44_row5_col0\" class=\"data row5 col0\" >Decision Tree Classifier</td>\n",
       "      <td id=\"T_4db44_row5_col1\" class=\"data row5 col1\" >0.7129</td>\n",
       "      <td id=\"T_4db44_row5_col2\" class=\"data row5 col2\" >0.4190</td>\n",
       "      <td id=\"T_4db44_row5_col3\" class=\"data row5 col3\" >0.7129</td>\n",
       "      <td id=\"T_4db44_row5_col4\" class=\"data row5 col4\" >0.7249</td>\n",
       "      <td id=\"T_4db44_row5_col5\" class=\"data row5 col5\" >0.6960</td>\n",
       "      <td id=\"T_4db44_row5_col6\" class=\"data row5 col6\" >0.6094</td>\n",
       "      <td id=\"T_4db44_row5_col7\" class=\"data row5 col7\" >0.6270</td>\n",
       "      <td id=\"T_4db44_row5_col8\" class=\"data row5 col8\" >0.0220</td>\n",
       "    </tr>\n",
       "    <tr>\n",
       "      <th id=\"T_4db44_level0_row6\" class=\"row_heading level0 row6\" >gbc</th>\n",
       "      <td id=\"T_4db44_row6_col0\" class=\"data row6 col0\" >Gradient Boosting Classifier</td>\n",
       "      <td id=\"T_4db44_row6_col1\" class=\"data row6 col1\" >0.6986</td>\n",
       "      <td id=\"T_4db44_row6_col2\" class=\"data row6 col2\" >0.4618</td>\n",
       "      <td id=\"T_4db44_row6_col3\" class=\"data row6 col3\" >0.6986</td>\n",
       "      <td id=\"T_4db44_row6_col4\" class=\"data row6 col4\" >0.6516</td>\n",
       "      <td id=\"T_4db44_row6_col5\" class=\"data row6 col5\" >0.6600</td>\n",
       "      <td id=\"T_4db44_row6_col6\" class=\"data row6 col6\" >0.5803</td>\n",
       "      <td id=\"T_4db44_row6_col7\" class=\"data row6 col7\" >0.5959</td>\n",
       "      <td id=\"T_4db44_row6_col8\" class=\"data row6 col8\" >0.3440</td>\n",
       "    </tr>\n",
       "    <tr>\n",
       "      <th id=\"T_4db44_level0_row7\" class=\"row_heading level0 row7\" >lr</th>\n",
       "      <td id=\"T_4db44_row7_col0\" class=\"data row7 col0\" >Logistic Regression</td>\n",
       "      <td id=\"T_4db44_row7_col1\" class=\"data row7 col1\" >0.6567</td>\n",
       "      <td id=\"T_4db44_row7_col2\" class=\"data row7 col2\" >0.4358</td>\n",
       "      <td id=\"T_4db44_row7_col3\" class=\"data row7 col3\" >0.6567</td>\n",
       "      <td id=\"T_4db44_row7_col4\" class=\"data row7 col4\" >0.5926</td>\n",
       "      <td id=\"T_4db44_row7_col5\" class=\"data row7 col5\" >0.6150</td>\n",
       "      <td id=\"T_4db44_row7_col6\" class=\"data row7 col6\" >0.5093</td>\n",
       "      <td id=\"T_4db44_row7_col7\" class=\"data row7 col7\" >0.5229</td>\n",
       "      <td id=\"T_4db44_row7_col8\" class=\"data row7 col8\" >0.6070</td>\n",
       "    </tr>\n",
       "    <tr>\n",
       "      <th id=\"T_4db44_level0_row8\" class=\"row_heading level0 row8\" >lda</th>\n",
       "      <td id=\"T_4db44_row8_col0\" class=\"data row8 col0\" >Linear Discriminant Analysis</td>\n",
       "      <td id=\"T_4db44_row8_col1\" class=\"data row8 col1\" >0.6567</td>\n",
       "      <td id=\"T_4db44_row8_col2\" class=\"data row8 col2\" >0.4276</td>\n",
       "      <td id=\"T_4db44_row8_col3\" class=\"data row8 col3\" >0.6567</td>\n",
       "      <td id=\"T_4db44_row8_col4\" class=\"data row8 col4\" >0.6266</td>\n",
       "      <td id=\"T_4db44_row8_col5\" class=\"data row8 col5\" >0.6265</td>\n",
       "      <td id=\"T_4db44_row8_col6\" class=\"data row8 col6\" >0.5220</td>\n",
       "      <td id=\"T_4db44_row8_col7\" class=\"data row8 col7\" >0.5367</td>\n",
       "      <td id=\"T_4db44_row8_col8\" class=\"data row8 col8\" >0.0230</td>\n",
       "    </tr>\n",
       "    <tr>\n",
       "      <th id=\"T_4db44_level0_row9\" class=\"row_heading level0 row9\" >knn</th>\n",
       "      <td id=\"T_4db44_row9_col0\" class=\"data row9 col0\" >K Neighbors Classifier</td>\n",
       "      <td id=\"T_4db44_row9_col1\" class=\"data row9 col1\" >0.6390</td>\n",
       "      <td id=\"T_4db44_row9_col2\" class=\"data row9 col2\" >0.4297</td>\n",
       "      <td id=\"T_4db44_row9_col3\" class=\"data row9 col3\" >0.6390</td>\n",
       "      <td id=\"T_4db44_row9_col4\" class=\"data row9 col4\" >0.6005</td>\n",
       "      <td id=\"T_4db44_row9_col5\" class=\"data row9 col5\" >0.5986</td>\n",
       "      <td id=\"T_4db44_row9_col6\" class=\"data row9 col6\" >0.4960</td>\n",
       "      <td id=\"T_4db44_row9_col7\" class=\"data row9 col7\" >0.5164</td>\n",
       "      <td id=\"T_4db44_row9_col8\" class=\"data row9 col8\" >0.0300</td>\n",
       "    </tr>\n",
       "    <tr>\n",
       "      <th id=\"T_4db44_level0_row10\" class=\"row_heading level0 row10\" >ridge</th>\n",
       "      <td id=\"T_4db44_row10_col0\" class=\"data row10 col0\" >Ridge Classifier</td>\n",
       "      <td id=\"T_4db44_row10_col1\" class=\"data row10 col1\" >0.6167</td>\n",
       "      <td id=\"T_4db44_row10_col2\" class=\"data row10 col2\" >0.0000</td>\n",
       "      <td id=\"T_4db44_row10_col3\" class=\"data row10 col3\" >0.6167</td>\n",
       "      <td id=\"T_4db44_row10_col4\" class=\"data row10 col4\" >0.5424</td>\n",
       "      <td id=\"T_4db44_row10_col5\" class=\"data row10 col5\" >0.5596</td>\n",
       "      <td id=\"T_4db44_row10_col6\" class=\"data row10 col6\" >0.4523</td>\n",
       "      <td id=\"T_4db44_row10_col7\" class=\"data row10 col7\" >0.4733</td>\n",
       "      <td id=\"T_4db44_row10_col8\" class=\"data row10 col8\" >0.0200</td>\n",
       "    </tr>\n",
       "    <tr>\n",
       "      <th id=\"T_4db44_level0_row11\" class=\"row_heading level0 row11\" >ada</th>\n",
       "      <td id=\"T_4db44_row11_col0\" class=\"data row11 col0\" >Ada Boost Classifier</td>\n",
       "      <td id=\"T_4db44_row11_col1\" class=\"data row11 col1\" >0.4219</td>\n",
       "      <td id=\"T_4db44_row11_col2\" class=\"data row11 col2\" >0.3409</td>\n",
       "      <td id=\"T_4db44_row11_col3\" class=\"data row11 col3\" >0.4219</td>\n",
       "      <td id=\"T_4db44_row11_col4\" class=\"data row11 col4\" >0.3361</td>\n",
       "      <td id=\"T_4db44_row11_col5\" class=\"data row11 col5\" >0.3284</td>\n",
       "      <td id=\"T_4db44_row11_col6\" class=\"data row11 col6\" >0.1802</td>\n",
       "      <td id=\"T_4db44_row11_col7\" class=\"data row11 col7\" >0.2077</td>\n",
       "      <td id=\"T_4db44_row11_col8\" class=\"data row11 col8\" >0.0760</td>\n",
       "    </tr>\n",
       "    <tr>\n",
       "      <th id=\"T_4db44_level0_row12\" class=\"row_heading level0 row12\" >nb</th>\n",
       "      <td id=\"T_4db44_row12_col0\" class=\"data row12 col0\" >Naive Bayes</td>\n",
       "      <td id=\"T_4db44_row12_col1\" class=\"data row12 col1\" >0.3886</td>\n",
       "      <td id=\"T_4db44_row12_col2\" class=\"data row12 col2\" >0.3944</td>\n",
       "      <td id=\"T_4db44_row12_col3\" class=\"data row12 col3\" >0.3886</td>\n",
       "      <td id=\"T_4db44_row12_col4\" class=\"data row12 col4\" >0.4903</td>\n",
       "      <td id=\"T_4db44_row12_col5\" class=\"data row12 col5\" >0.3721</td>\n",
       "      <td id=\"T_4db44_row12_col6\" class=\"data row12 col6\" >0.2645</td>\n",
       "      <td id=\"T_4db44_row12_col7\" class=\"data row12 col7\" >0.3098</td>\n",
       "      <td id=\"T_4db44_row12_col8\" class=\"data row12 col8\" >0.0220</td>\n",
       "    </tr>\n",
       "    <tr>\n",
       "      <th id=\"T_4db44_level0_row13\" class=\"row_heading level0 row13\" >dummy</th>\n",
       "      <td id=\"T_4db44_row13_col0\" class=\"data row13 col0\" >Dummy Classifier</td>\n",
       "      <td id=\"T_4db44_row13_col1\" class=\"data row13 col1\" >0.3562</td>\n",
       "      <td id=\"T_4db44_row13_col2\" class=\"data row13 col2\" >0.2500</td>\n",
       "      <td id=\"T_4db44_row13_col3\" class=\"data row13 col3\" >0.3562</td>\n",
       "      <td id=\"T_4db44_row13_col4\" class=\"data row13 col4\" >0.1281</td>\n",
       "      <td id=\"T_4db44_row13_col5\" class=\"data row13 col5\" >0.1881</td>\n",
       "      <td id=\"T_4db44_row13_col6\" class=\"data row13 col6\" >0.0000</td>\n",
       "      <td id=\"T_4db44_row13_col7\" class=\"data row13 col7\" >0.0000</td>\n",
       "      <td id=\"T_4db44_row13_col8\" class=\"data row13 col8\" >0.0430</td>\n",
       "    </tr>\n",
       "    <tr>\n",
       "      <th id=\"T_4db44_level0_row14\" class=\"row_heading level0 row14\" >svm</th>\n",
       "      <td id=\"T_4db44_row14_col0\" class=\"data row14 col0\" >SVM - Linear Kernel</td>\n",
       "      <td id=\"T_4db44_row14_col1\" class=\"data row14 col1\" >0.3224</td>\n",
       "      <td id=\"T_4db44_row14_col2\" class=\"data row14 col2\" >0.0000</td>\n",
       "      <td id=\"T_4db44_row14_col3\" class=\"data row14 col3\" >0.3224</td>\n",
       "      <td id=\"T_4db44_row14_col4\" class=\"data row14 col4\" >0.2139</td>\n",
       "      <td id=\"T_4db44_row14_col5\" class=\"data row14 col5\" >0.2172</td>\n",
       "      <td id=\"T_4db44_row14_col6\" class=\"data row14 col6\" >0.1545</td>\n",
       "      <td id=\"T_4db44_row14_col7\" class=\"data row14 col7\" >0.2253</td>\n",
       "      <td id=\"T_4db44_row14_col8\" class=\"data row14 col8\" >0.0260</td>\n",
       "    </tr>\n",
       "    <tr>\n",
       "      <th id=\"T_4db44_level0_row15\" class=\"row_heading level0 row15\" >qda</th>\n",
       "      <td id=\"T_4db44_row15_col0\" class=\"data row15 col0\" >Quadratic Discriminant Analysis</td>\n",
       "      <td id=\"T_4db44_row15_col1\" class=\"data row15 col1\" >0.1605</td>\n",
       "      <td id=\"T_4db44_row15_col2\" class=\"data row15 col2\" >0.0000</td>\n",
       "      <td id=\"T_4db44_row15_col3\" class=\"data row15 col3\" >0.1605</td>\n",
       "      <td id=\"T_4db44_row15_col4\" class=\"data row15 col4\" >0.0751</td>\n",
       "      <td id=\"T_4db44_row15_col5\" class=\"data row15 col5\" >0.0880</td>\n",
       "      <td id=\"T_4db44_row15_col6\" class=\"data row15 col6\" >0.0500</td>\n",
       "      <td id=\"T_4db44_row15_col7\" class=\"data row15 col7\" >0.0512</td>\n",
       "      <td id=\"T_4db44_row15_col8\" class=\"data row15 col8\" >0.0270</td>\n",
       "    </tr>\n",
       "  </tbody>\n",
       "</table>\n"
      ],
      "text/plain": [
       "<pandas.io.formats.style.Styler at 0x7e088eac25c0>"
      ]
     },
     "metadata": {},
     "output_type": "display_data"
    },
    {
     "data": {
      "application/vnd.jupyter.widget-view+json": {
       "model_id": "",
       "version_major": 2,
       "version_minor": 0
      },
      "text/plain": [
       "Processing:   0%|          | 0/69 [00:00<?, ?it/s]"
      ]
     },
     "metadata": {},
     "output_type": "display_data"
    },
    {
     "data": {
      "text/html": [
       "<style>#sk-container-id-1 {color: black;background-color: white;}#sk-container-id-1 pre{padding: 0;}#sk-container-id-1 div.sk-toggleable {background-color: white;}#sk-container-id-1 label.sk-toggleable__label {cursor: pointer;display: block;width: 100%;margin-bottom: 0;padding: 0.3em;box-sizing: border-box;text-align: center;}#sk-container-id-1 label.sk-toggleable__label-arrow:before {content: \"▸\";float: left;margin-right: 0.25em;color: #696969;}#sk-container-id-1 label.sk-toggleable__label-arrow:hover:before {color: black;}#sk-container-id-1 div.sk-estimator:hover label.sk-toggleable__label-arrow:before {color: black;}#sk-container-id-1 div.sk-toggleable__content {max-height: 0;max-width: 0;overflow: hidden;text-align: left;background-color: #f0f8ff;}#sk-container-id-1 div.sk-toggleable__content pre {margin: 0.2em;color: black;border-radius: 0.25em;background-color: #f0f8ff;}#sk-container-id-1 input.sk-toggleable__control:checked~div.sk-toggleable__content {max-height: 200px;max-width: 100%;overflow: auto;}#sk-container-id-1 input.sk-toggleable__control:checked~label.sk-toggleable__label-arrow:before {content: \"▾\";}#sk-container-id-1 div.sk-estimator input.sk-toggleable__control:checked~label.sk-toggleable__label {background-color: #d4ebff;}#sk-container-id-1 div.sk-label input.sk-toggleable__control:checked~label.sk-toggleable__label {background-color: #d4ebff;}#sk-container-id-1 input.sk-hidden--visually {border: 0;clip: rect(1px 1px 1px 1px);clip: rect(1px, 1px, 1px, 1px);height: 1px;margin: -1px;overflow: hidden;padding: 0;position: absolute;width: 1px;}#sk-container-id-1 div.sk-estimator {font-family: monospace;background-color: #f0f8ff;border: 1px dotted black;border-radius: 0.25em;box-sizing: border-box;margin-bottom: 0.5em;}#sk-container-id-1 div.sk-estimator:hover {background-color: #d4ebff;}#sk-container-id-1 div.sk-parallel-item::after {content: \"\";width: 100%;border-bottom: 1px solid gray;flex-grow: 1;}#sk-container-id-1 div.sk-label:hover label.sk-toggleable__label {background-color: #d4ebff;}#sk-container-id-1 div.sk-serial::before {content: \"\";position: absolute;border-left: 1px solid gray;box-sizing: border-box;top: 0;bottom: 0;left: 50%;z-index: 0;}#sk-container-id-1 div.sk-serial {display: flex;flex-direction: column;align-items: center;background-color: white;padding-right: 0.2em;padding-left: 0.2em;position: relative;}#sk-container-id-1 div.sk-item {position: relative;z-index: 1;}#sk-container-id-1 div.sk-parallel {display: flex;align-items: stretch;justify-content: center;background-color: white;position: relative;}#sk-container-id-1 div.sk-item::before, #sk-container-id-1 div.sk-parallel-item::before {content: \"\";position: absolute;border-left: 1px solid gray;box-sizing: border-box;top: 0;bottom: 0;left: 50%;z-index: -1;}#sk-container-id-1 div.sk-parallel-item {display: flex;flex-direction: column;z-index: 1;position: relative;background-color: white;}#sk-container-id-1 div.sk-parallel-item:first-child::after {align-self: flex-end;width: 50%;}#sk-container-id-1 div.sk-parallel-item:last-child::after {align-self: flex-start;width: 50%;}#sk-container-id-1 div.sk-parallel-item:only-child::after {width: 0;}#sk-container-id-1 div.sk-dashed-wrapped {border: 1px dashed gray;margin: 0 0.4em 0.5em 0.4em;box-sizing: border-box;padding-bottom: 0.4em;background-color: white;}#sk-container-id-1 div.sk-label label {font-family: monospace;font-weight: bold;display: inline-block;line-height: 1.2em;}#sk-container-id-1 div.sk-label-container {text-align: center;}#sk-container-id-1 div.sk-container {/* jupyter's `normalize.less` sets `[hidden] { display: none; }` but bootstrap.min.css set `[hidden] { display: none !important; }` so we also need the `!important` here to be able to override the default hidden behavior on the sphinx rendered scikit-learn.org. See: https://github.com/scikit-learn/scikit-learn/issues/21755 */display: inline-block !important;position: relative;}#sk-container-id-1 div.sk-text-repr-fallback {display: none;}</style><div id=\"sk-container-id-1\" class=\"sk-top-container\"><div class=\"sk-text-repr-fallback\"><pre>ExtraTreesClassifier(bootstrap=False, ccp_alpha=0.0, class_weight=None,\n",
       "                     criterion=&#x27;gini&#x27;, max_depth=None, max_features=&#x27;sqrt&#x27;,\n",
       "                     max_leaf_nodes=None, max_samples=None,\n",
       "                     min_impurity_decrease=0.0, min_samples_leaf=1,\n",
       "                     min_samples_split=2, min_weight_fraction_leaf=0.0,\n",
       "                     n_estimators=100, n_jobs=-1, oob_score=False,\n",
       "                     random_state=550, verbose=0, warm_start=False)</pre><b>In a Jupyter environment, please rerun this cell to show the HTML representation or trust the notebook. <br />On GitHub, the HTML representation is unable to render, please try loading this page with nbviewer.org.</b></div><div class=\"sk-container\" hidden><div class=\"sk-item\"><div class=\"sk-estimator sk-toggleable\"><input class=\"sk-toggleable__control sk-hidden--visually\" id=\"sk-estimator-id-1\" type=\"checkbox\" checked><label for=\"sk-estimator-id-1\" class=\"sk-toggleable__label sk-toggleable__label-arrow\">ExtraTreesClassifier</label><div class=\"sk-toggleable__content\"><pre>ExtraTreesClassifier(bootstrap=False, ccp_alpha=0.0, class_weight=None,\n",
       "                     criterion=&#x27;gini&#x27;, max_depth=None, max_features=&#x27;sqrt&#x27;,\n",
       "                     max_leaf_nodes=None, max_samples=None,\n",
       "                     min_impurity_decrease=0.0, min_samples_leaf=1,\n",
       "                     min_samples_split=2, min_weight_fraction_leaf=0.0,\n",
       "                     n_estimators=100, n_jobs=-1, oob_score=False,\n",
       "                     random_state=550, verbose=0, warm_start=False)</pre></div></div></div></div></div>"
      ],
      "text/plain": [
       "ExtraTreesClassifier(bootstrap=False, ccp_alpha=0.0, class_weight=None,\n",
       "                     criterion='gini', max_depth=None, max_features='sqrt',\n",
       "                     max_leaf_nodes=None, max_samples=None,\n",
       "                     min_impurity_decrease=0.0, min_samples_leaf=1,\n",
       "                     min_samples_split=2, min_weight_fraction_leaf=0.0,\n",
       "                     n_estimators=100, n_jobs=-1, oob_score=False,\n",
       "                     random_state=550, verbose=0, warm_start=False)"
      ]
     },
     "execution_count": 23,
     "metadata": {},
     "output_type": "execute_result"
    }
   ],
   "source": [
    "#compare models\n",
    "compare_models()"
   ]
  },
  {
   "cell_type": "code",
   "execution_count": 24,
   "metadata": {
    "execution": {
     "iopub.execute_input": "2023-12-18T23:01:43.316939Z",
     "iopub.status.busy": "2023-12-18T23:01:43.315575Z",
     "iopub.status.idle": "2023-12-18T23:01:46.725068Z",
     "shell.execute_reply": "2023-12-18T23:01:46.723869Z",
     "shell.execute_reply.started": "2023-12-18T23:01:43.316884Z"
    }
   },
   "outputs": [
    {
     "data": {
      "text/html": [],
      "text/plain": [
       "<IPython.core.display.HTML object>"
      ]
     },
     "metadata": {},
     "output_type": "display_data"
    },
    {
     "data": {
      "text/html": [
       "<style type=\"text/css\">\n",
       "#T_f0b4e_row10_col0, #T_f0b4e_row10_col1, #T_f0b4e_row10_col2, #T_f0b4e_row10_col3, #T_f0b4e_row10_col4, #T_f0b4e_row10_col5, #T_f0b4e_row10_col6 {\n",
       "  background: yellow;\n",
       "}\n",
       "</style>\n",
       "<table id=\"T_f0b4e\">\n",
       "  <thead>\n",
       "    <tr>\n",
       "      <th class=\"blank level0\" >&nbsp;</th>\n",
       "      <th id=\"T_f0b4e_level0_col0\" class=\"col_heading level0 col0\" >Accuracy</th>\n",
       "      <th id=\"T_f0b4e_level0_col1\" class=\"col_heading level0 col1\" >AUC</th>\n",
       "      <th id=\"T_f0b4e_level0_col2\" class=\"col_heading level0 col2\" >Recall</th>\n",
       "      <th id=\"T_f0b4e_level0_col3\" class=\"col_heading level0 col3\" >Prec.</th>\n",
       "      <th id=\"T_f0b4e_level0_col4\" class=\"col_heading level0 col4\" >F1</th>\n",
       "      <th id=\"T_f0b4e_level0_col5\" class=\"col_heading level0 col5\" >Kappa</th>\n",
       "      <th id=\"T_f0b4e_level0_col6\" class=\"col_heading level0 col6\" >MCC</th>\n",
       "    </tr>\n",
       "    <tr>\n",
       "      <th class=\"index_name level0\" >Fold</th>\n",
       "      <th class=\"blank col0\" >&nbsp;</th>\n",
       "      <th class=\"blank col1\" >&nbsp;</th>\n",
       "      <th class=\"blank col2\" >&nbsp;</th>\n",
       "      <th class=\"blank col3\" >&nbsp;</th>\n",
       "      <th class=\"blank col4\" >&nbsp;</th>\n",
       "      <th class=\"blank col5\" >&nbsp;</th>\n",
       "      <th class=\"blank col6\" >&nbsp;</th>\n",
       "    </tr>\n",
       "  </thead>\n",
       "  <tbody>\n",
       "    <tr>\n",
       "      <th id=\"T_f0b4e_level0_row0\" class=\"row_heading level0 row0\" >0</th>\n",
       "      <td id=\"T_f0b4e_row0_col0\" class=\"data row0 col0\" >0.8667</td>\n",
       "      <td id=\"T_f0b4e_row0_col1\" class=\"data row0 col1\" >0.0000</td>\n",
       "      <td id=\"T_f0b4e_row0_col2\" class=\"data row0 col2\" >0.8667</td>\n",
       "      <td id=\"T_f0b4e_row0_col3\" class=\"data row0 col3\" >0.9000</td>\n",
       "      <td id=\"T_f0b4e_row0_col4\" class=\"data row0 col4\" >0.8595</td>\n",
       "      <td id=\"T_f0b4e_row0_col5\" class=\"data row0 col5\" >0.8077</td>\n",
       "      <td id=\"T_f0b4e_row0_col6\" class=\"data row0 col6\" >0.8296</td>\n",
       "    </tr>\n",
       "    <tr>\n",
       "      <th id=\"T_f0b4e_level0_row1\" class=\"row_heading level0 row1\" >1</th>\n",
       "      <td id=\"T_f0b4e_row1_col0\" class=\"data row1 col0\" >0.7333</td>\n",
       "      <td id=\"T_f0b4e_row1_col1\" class=\"data row1 col1\" >0.0000</td>\n",
       "      <td id=\"T_f0b4e_row1_col2\" class=\"data row1 col2\" >0.7333</td>\n",
       "      <td id=\"T_f0b4e_row1_col3\" class=\"data row1 col3\" >0.8417</td>\n",
       "      <td id=\"T_f0b4e_row1_col4\" class=\"data row1 col4\" >0.7009</td>\n",
       "      <td id=\"T_f0b4e_row1_col5\" class=\"data row1 col5\" >0.6386</td>\n",
       "      <td id=\"T_f0b4e_row1_col6\" class=\"data row1 col6\" >0.6932</td>\n",
       "    </tr>\n",
       "    <tr>\n",
       "      <th id=\"T_f0b4e_level0_row2\" class=\"row_heading level0 row2\" >2</th>\n",
       "      <td id=\"T_f0b4e_row2_col0\" class=\"data row2 col0\" >0.7333</td>\n",
       "      <td id=\"T_f0b4e_row2_col1\" class=\"data row2 col1\" >0.0000</td>\n",
       "      <td id=\"T_f0b4e_row2_col2\" class=\"data row2 col2\" >0.7333</td>\n",
       "      <td id=\"T_f0b4e_row2_col3\" class=\"data row2 col3\" >0.7492</td>\n",
       "      <td id=\"T_f0b4e_row2_col4\" class=\"data row2 col4\" >0.7163</td>\n",
       "      <td id=\"T_f0b4e_row2_col5\" class=\"data row2 col5\" >0.6296</td>\n",
       "      <td id=\"T_f0b4e_row2_col6\" class=\"data row2 col6\" >0.6464</td>\n",
       "    </tr>\n",
       "    <tr>\n",
       "      <th id=\"T_f0b4e_level0_row3\" class=\"row_heading level0 row3\" >3</th>\n",
       "      <td id=\"T_f0b4e_row3_col0\" class=\"data row3 col0\" >0.8667</td>\n",
       "      <td id=\"T_f0b4e_row3_col1\" class=\"data row3 col1\" >0.0000</td>\n",
       "      <td id=\"T_f0b4e_row3_col2\" class=\"data row3 col2\" >0.8667</td>\n",
       "      <td id=\"T_f0b4e_row3_col3\" class=\"data row3 col3\" >0.8667</td>\n",
       "      <td id=\"T_f0b4e_row3_col4\" class=\"data row3 col4\" >0.8667</td>\n",
       "      <td id=\"T_f0b4e_row3_col5\" class=\"data row3 col5\" >0.8193</td>\n",
       "      <td id=\"T_f0b4e_row3_col6\" class=\"data row3 col6\" >0.8193</td>\n",
       "    </tr>\n",
       "    <tr>\n",
       "      <th id=\"T_f0b4e_level0_row4\" class=\"row_heading level0 row4\" >4</th>\n",
       "      <td id=\"T_f0b4e_row4_col0\" class=\"data row4 col0\" >0.8667</td>\n",
       "      <td id=\"T_f0b4e_row4_col1\" class=\"data row4 col1\" >0.8943</td>\n",
       "      <td id=\"T_f0b4e_row4_col2\" class=\"data row4 col2\" >0.8667</td>\n",
       "      <td id=\"T_f0b4e_row4_col3\" class=\"data row4 col3\" >0.8111</td>\n",
       "      <td id=\"T_f0b4e_row4_col4\" class=\"data row4 col4\" >0.8364</td>\n",
       "      <td id=\"T_f0b4e_row4_col5\" class=\"data row4 col5\" >0.8171</td>\n",
       "      <td id=\"T_f0b4e_row4_col6\" class=\"data row4 col6\" >0.8225</td>\n",
       "    </tr>\n",
       "    <tr>\n",
       "      <th id=\"T_f0b4e_level0_row5\" class=\"row_heading level0 row5\" >5</th>\n",
       "      <td id=\"T_f0b4e_row5_col0\" class=\"data row5 col0\" >0.8667</td>\n",
       "      <td id=\"T_f0b4e_row5_col1\" class=\"data row5 col1\" >0.9800</td>\n",
       "      <td id=\"T_f0b4e_row5_col2\" class=\"data row5 col2\" >0.8667</td>\n",
       "      <td id=\"T_f0b4e_row5_col3\" class=\"data row5 col3\" >0.8111</td>\n",
       "      <td id=\"T_f0b4e_row5_col4\" class=\"data row5 col4\" >0.8364</td>\n",
       "      <td id=\"T_f0b4e_row5_col5\" class=\"data row5 col5\" >0.8171</td>\n",
       "      <td id=\"T_f0b4e_row5_col6\" class=\"data row5 col6\" >0.8225</td>\n",
       "    </tr>\n",
       "    <tr>\n",
       "      <th id=\"T_f0b4e_level0_row6\" class=\"row_heading level0 row6\" >6</th>\n",
       "      <td id=\"T_f0b4e_row6_col0\" class=\"data row6 col0\" >0.8000</td>\n",
       "      <td id=\"T_f0b4e_row6_col1\" class=\"data row6 col1\" >0.9886</td>\n",
       "      <td id=\"T_f0b4e_row6_col2\" class=\"data row6 col2\" >0.8000</td>\n",
       "      <td id=\"T_f0b4e_row6_col3\" class=\"data row6 col3\" >0.7714</td>\n",
       "      <td id=\"T_f0b4e_row6_col4\" class=\"data row6 col4\" >0.7741</td>\n",
       "      <td id=\"T_f0b4e_row6_col5\" class=\"data row6 col5\" >0.7256</td>\n",
       "      <td id=\"T_f0b4e_row6_col6\" class=\"data row6 col6\" >0.7398</td>\n",
       "    </tr>\n",
       "    <tr>\n",
       "      <th id=\"T_f0b4e_level0_row7\" class=\"row_heading level0 row7\" >7</th>\n",
       "      <td id=\"T_f0b4e_row7_col0\" class=\"data row7 col0\" >0.8000</td>\n",
       "      <td id=\"T_f0b4e_row7_col1\" class=\"data row7 col1\" >0.9686</td>\n",
       "      <td id=\"T_f0b4e_row7_col2\" class=\"data row7 col2\" >0.8000</td>\n",
       "      <td id=\"T_f0b4e_row7_col3\" class=\"data row7 col3\" >0.8222</td>\n",
       "      <td id=\"T_f0b4e_row7_col4\" class=\"data row7 col4\" >0.8054</td>\n",
       "      <td id=\"T_f0b4e_row7_col5\" class=\"data row7 col5\" >0.7321</td>\n",
       "      <td id=\"T_f0b4e_row7_col6\" class=\"data row7 col6\" >0.7365</td>\n",
       "    </tr>\n",
       "    <tr>\n",
       "      <th id=\"T_f0b4e_level0_row8\" class=\"row_heading level0 row8\" >8</th>\n",
       "      <td id=\"T_f0b4e_row8_col0\" class=\"data row8 col0\" >0.8000</td>\n",
       "      <td id=\"T_f0b4e_row8_col1\" class=\"data row8 col1\" >0.9190</td>\n",
       "      <td id=\"T_f0b4e_row8_col2\" class=\"data row8 col2\" >0.8000</td>\n",
       "      <td id=\"T_f0b4e_row8_col3\" class=\"data row8 col3\" >0.8048</td>\n",
       "      <td id=\"T_f0b4e_row8_col4\" class=\"data row8 col4\" >0.7722</td>\n",
       "      <td id=\"T_f0b4e_row8_col5\" class=\"data row8 col5\" >0.7321</td>\n",
       "      <td id=\"T_f0b4e_row8_col6\" class=\"data row8 col6\" >0.7550</td>\n",
       "    </tr>\n",
       "    <tr>\n",
       "      <th id=\"T_f0b4e_level0_row9\" class=\"row_heading level0 row9\" >9</th>\n",
       "      <td id=\"T_f0b4e_row9_col0\" class=\"data row9 col0\" >0.9286</td>\n",
       "      <td id=\"T_f0b4e_row9_col1\" class=\"data row9 col1\" >0.0000</td>\n",
       "      <td id=\"T_f0b4e_row9_col2\" class=\"data row9 col2\" >0.9286</td>\n",
       "      <td id=\"T_f0b4e_row9_col3\" class=\"data row9 col3\" >0.8673</td>\n",
       "      <td id=\"T_f0b4e_row9_col4\" class=\"data row9 col4\" >0.8956</td>\n",
       "      <td id=\"T_f0b4e_row9_col5\" class=\"data row9 col5\" >0.8947</td>\n",
       "      <td id=\"T_f0b4e_row9_col6\" class=\"data row9 col6\" >0.9024</td>\n",
       "    </tr>\n",
       "    <tr>\n",
       "      <th id=\"T_f0b4e_level0_row10\" class=\"row_heading level0 row10\" >Mean</th>\n",
       "      <td id=\"T_f0b4e_row10_col0\" class=\"data row10 col0\" >0.8262</td>\n",
       "      <td id=\"T_f0b4e_row10_col1\" class=\"data row10 col1\" >0.4750</td>\n",
       "      <td id=\"T_f0b4e_row10_col2\" class=\"data row10 col2\" >0.8262</td>\n",
       "      <td id=\"T_f0b4e_row10_col3\" class=\"data row10 col3\" >0.8246</td>\n",
       "      <td id=\"T_f0b4e_row10_col4\" class=\"data row10 col4\" >0.8063</td>\n",
       "      <td id=\"T_f0b4e_row10_col5\" class=\"data row10 col5\" >0.7614</td>\n",
       "      <td id=\"T_f0b4e_row10_col6\" class=\"data row10 col6\" >0.7767</td>\n",
       "    </tr>\n",
       "    <tr>\n",
       "      <th id=\"T_f0b4e_level0_row11\" class=\"row_heading level0 row11\" >Std</th>\n",
       "      <td id=\"T_f0b4e_row11_col0\" class=\"data row11 col0\" >0.0603</td>\n",
       "      <td id=\"T_f0b4e_row11_col1\" class=\"data row11 col1\" >0.4758</td>\n",
       "      <td id=\"T_f0b4e_row11_col2\" class=\"data row11 col2\" >0.0603</td>\n",
       "      <td id=\"T_f0b4e_row11_col3\" class=\"data row11 col3\" >0.0434</td>\n",
       "      <td id=\"T_f0b4e_row11_col4\" class=\"data row11 col4\" >0.0614</td>\n",
       "      <td id=\"T_f0b4e_row11_col5\" class=\"data row11 col5\" >0.0806</td>\n",
       "      <td id=\"T_f0b4e_row11_col6\" class=\"data row11 col6\" >0.0721</td>\n",
       "    </tr>\n",
       "  </tbody>\n",
       "</table>\n"
      ],
      "text/plain": [
       "<pandas.io.formats.style.Styler at 0x7e088ed20be0>"
      ]
     },
     "metadata": {},
     "output_type": "display_data"
    },
    {
     "data": {
      "application/vnd.jupyter.widget-view+json": {
       "model_id": "",
       "version_major": 2,
       "version_minor": 0
      },
      "text/plain": [
       "Processing:   0%|          | 0/4 [00:00<?, ?it/s]"
      ]
     },
     "metadata": {},
     "output_type": "display_data"
    }
   ],
   "source": [
    "#cros over best model\n",
    "best_model = create_model('et')"
   ]
  },
  {
   "cell_type": "code",
   "execution_count": 25,
   "metadata": {
    "execution": {
     "iopub.execute_input": "2023-12-18T23:02:12.214363Z",
     "iopub.status.busy": "2023-12-18T23:02:12.213882Z",
     "iopub.status.idle": "2023-12-18T23:02:12.309084Z",
     "shell.execute_reply": "2023-12-18T23:02:12.307941Z",
     "shell.execute_reply.started": "2023-12-18T23:02:12.214324Z"
    }
   },
   "outputs": [
    {
     "data": {
      "text/plain": [
       "['model.joblib']"
      ]
     },
     "execution_count": 25,
     "metadata": {},
     "output_type": "execute_result"
    }
   ],
   "source": [
    "#save model\n",
    "joblib.dump(best_model,\"model.joblib\")"
   ]
  },
  {
   "cell_type": "code",
   "execution_count": 26,
   "metadata": {
    "execution": {
     "iopub.execute_input": "2023-12-18T23:02:18.325132Z",
     "iopub.status.busy": "2023-12-18T23:02:18.324615Z",
     "iopub.status.idle": "2023-12-18T23:02:18.330699Z",
     "shell.execute_reply": "2023-12-18T23:02:18.329515Z",
     "shell.execute_reply.started": "2023-12-18T23:02:18.325077Z"
    }
   },
   "outputs": [],
   "source": [
    "#sources"
   ]
  },
  {
   "cell_type": "markdown",
   "metadata": {},
   "source": [
    "-Zafer Acar Notes,-[https://thecleverprogrammer.com/]"
   ]
  }
 ],
 "metadata": {
  "kaggle": {
   "accelerator": "none",
   "dataSources": [
    {
     "datasetId": 738,
     "sourceId": 1370,
     "sourceType": "datasetVersion"
    }
   ],
   "dockerImageVersionId": 30626,
   "isGpuEnabled": false,
   "isInternetEnabled": true,
   "language": "python",
   "sourceType": "notebook"
  },
  "kernelspec": {
   "display_name": "Python 3 (ipykernel)",
   "language": "python",
   "name": "python3"
  },
  "language_info": {
   "codemirror_mode": {
    "name": "ipython",
    "version": 3
   },
   "file_extension": ".py",
   "mimetype": "text/x-python",
   "name": "python",
   "nbconvert_exporter": "python",
   "pygments_lexer": "ipython3",
   "version": "3.9.13"
  }
 },
 "nbformat": 4,
 "nbformat_minor": 4
}
